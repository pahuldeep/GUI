{
 "cells": [
  {
   "cell_type": "markdown",
   "metadata": {},
   "source": [
    "# Data structure\n",
    "Basic use of python...etc"
   ]
  },
  {
   "cell_type": "markdown",
   "metadata": {},
   "source": [
    "### Strings"
   ]
  },
  {
   "cell_type": "code",
   "execution_count": 1,
   "metadata": {},
   "outputs": [
    {
     "name": "stdout",
     "output_type": "stream",
     "text": [
      "e\n",
      "hell\n",
      "hlobdy\n",
      "hlbd\n",
      "(0, 'h')\n",
      "(1, 'e')\n",
      "(2, 'l')\n",
      "(3, 'l')\n",
      "(4, 'o')\n"
     ]
    }
   ],
   "source": [
    "#Slicing string\n",
    "geet='hello buddy'\n",
    "print(geet[1]) \n",
    "print(geet[0:4]) #here last word isn't come\n",
    "print(geet[0:11:2]) #here we skip with 2\n",
    "print(geet[0::3]) #skipp with 3 memory loc for all \n",
    "\n",
    "for i in enumerate(geet[0:5]):\n",
    "    print(i)\n",
    "\n",
    "#if a == b (a and b have the same value)\n",
    "#if a is b (if a and b are the same object) \n",
    "#if type(a) is type(b) (a and b are the same type) "
   ]
  },
  {
   "cell_type": "markdown",
   "metadata": {},
   "source": [
    "### Lists"
   ]
  },
  {
   "cell_type": "code",
   "execution_count": 2,
   "metadata": {},
   "outputs": [],
   "source": [
    "food= [[\"rice\",2.4,8],[\"flour\",1.9,5],[\"corn\",4.7,6]]"
   ]
  },
  {
   "cell_type": "code",
   "execution_count": 3,
   "metadata": {},
   "outputs": [
    {
     "name": "stdout",
     "output_type": "stream",
     "text": [
      "product :rice, price : 2.40, rating :8\n",
      "product :flour, price : 1.90, rating :5\n",
      "product :corn, price : 4.70, rating :6\n"
     ]
    }
   ],
   "source": [
    "for item in food:\n",
    "    print(\"product :%s, price : %.2f, rating :%i\"%(item[0],item[1],item[2]))"
   ]
  },
  {
   "cell_type": "code",
   "execution_count": 4,
   "metadata": {},
   "outputs": [],
   "source": [
    "food[1][1] = food[1][1]*1.2"
   ]
  },
  {
   "cell_type": "code",
   "execution_count": 5,
   "metadata": {},
   "outputs": [
    {
     "data": {
      "text/plain": [
       "2.28"
      ]
     },
     "execution_count": 5,
     "metadata": {},
     "output_type": "execute_result"
    }
   ],
   "source": [
    "food[1][1]"
   ]
  },
  {
   "cell_type": "code",
   "execution_count": 6,
   "metadata": {
    "scrolled": true
   },
   "outputs": [
    {
     "name": "stdout",
     "output_type": "stream",
     "text": [
      "[1, 2, 3, 4, 5]\n"
     ]
    },
    {
     "data": {
      "text/plain": [
       "[4, 16, 9, 1, 25]"
      ]
     },
     "execution_count": 6,
     "metadata": {},
     "output_type": "execute_result"
    }
   ],
   "source": [
    "lst=[2,4,3,1,5]\n",
    "\n",
    "print(sorted(lst))\n",
    "\n",
    "[i**2 for i in lst]"
   ]
  },
  {
   "cell_type": "code",
   "execution_count": 7,
   "metadata": {},
   "outputs": [
    {
     "data": {
      "text/plain": [
       "[4, 8, 6, 2, 10]"
      ]
     },
     "execution_count": 7,
     "metadata": {},
     "output_type": "execute_result"
    }
   ],
   "source": [
    "list(map(lambda i:i*2,lst))  #use of the lambda anonymous function call"
   ]
  },
  {
   "cell_type": "code",
   "execution_count": 8,
   "metadata": {},
   "outputs": [
    {
     "data": {
      "text/plain": [
       "[2, 1]"
      ]
     },
     "execution_count": 8,
     "metadata": {},
     "output_type": "execute_result"
    }
   ],
   "source": [
    "list(filter(lambda x:x<3,lst))"
   ]
  },
  {
   "cell_type": "code",
   "execution_count": 9,
   "metadata": {},
   "outputs": [
    {
     "name": "stdout",
     "output_type": "stream",
     "text": [
      "language not supported!\n",
      "Bonjour le monde\n",
      "hello world\n"
     ]
    }
   ],
   "source": [
    "def look(language):         #created function.\n",
    "    if language == 'english':\n",
    "        return 'hello world'\n",
    "    elif language == 'french':\n",
    "        return 'Bonjour le monde'\n",
    "    else:\n",
    "        return 'language not supported!'\n",
    "#makiing address based list from function for language \n",
    "get_language=[look('english'),look('french'),look('')]\n",
    "print(get_language[2])  #eg\n",
    "print(get_language[1])  #eg\n",
    "print(get_language[0])  #eg"
   ]
  },
  {
   "cell_type": "code",
   "execution_count": 10,
   "metadata": {},
   "outputs": [],
   "source": [
    "sentence_1=str.split(\"the longest word in this sentence\")#case-insensitive used for sorting\n",
    "sentence_2=\"another way to split words\".split() #another way to split"
   ]
  },
  {
   "cell_type": "code",
   "execution_count": 11,
   "metadata": {},
   "outputs": [
    {
     "data": {
      "text/plain": [
       "['in', 'the', 'word', 'this', 'longest', 'sentence']"
      ]
     },
     "execution_count": 11,
     "metadata": {},
     "output_type": "execute_result"
    }
   ],
   "source": [
    "sentence_1=sorted(sentence_1,key=len) # take two optional keyword arguments as key.\n",
    "sentence_1"
   ]
  },
  {
   "cell_type": "code",
   "execution_count": 12,
   "metadata": {},
   "outputs": [
    {
     "data": {
      "text/plain": [
       "[{2, 'in'},\n",
       " {3, 'the'},\n",
       " {4, 'word'},\n",
       " {4, 'this'},\n",
       " {7, 'longest'},\n",
       " {8, 'sentence'}]"
      ]
     },
     "execution_count": 12,
     "metadata": {},
     "output_type": "execute_result"
    }
   ],
   "source": [
    "[{word,len(word)} for word in sentence_1]"
   ]
  },
  {
   "cell_type": "code",
   "execution_count": 13,
   "metadata": {},
   "outputs": [
    {
     "data": {
      "text/plain": [
       "['another', 'words', 'split', 'way', 'to']"
      ]
     },
     "execution_count": 13,
     "metadata": {},
     "output_type": "execute_result"
    }
   ],
   "source": [
    "sentence_2.sort(key=len)\n",
    "sentence_2.reverse()\n",
    "sentence_2"
   ]
  },
  {
   "cell_type": "code",
   "execution_count": 14,
   "metadata": {},
   "outputs": [
    {
     "data": {
      "text/plain": [
       "[['corn', 4.7, 6], ['flour', 2.28, 5], ['rice', 2.4, 8]]"
      ]
     },
     "execution_count": 14,
     "metadata": {},
     "output_type": "execute_result"
    }
   ],
   "source": [
    "food.sort(key=lambda item:item[0])\n",
    "food"
   ]
  },
  {
   "cell_type": "markdown",
   "metadata": {},
   "source": [
    "### Recursive functions\n",
    "\n",
    "- difference between recursion and iteration.\n",
    "- Both these functions simply print out numbers between low and high, \n",
    "- the first one using iteration and the second using recursion:"
   ]
  },
  {
   "cell_type": "code",
   "execution_count": 15,
   "metadata": {},
   "outputs": [
    {
     "name": "stdout",
     "output_type": "stream",
     "text": [
      "0\n",
      "1\n",
      "2\n",
      "3\n",
      "4\n",
      "5\n",
      "6\n",
      "7\n",
      "8\n",
      "9\n",
      "10\n"
     ]
    }
   ],
   "source": [
    "def itertest(low,high):\n",
    "    while low <=high:\n",
    "        print(low)\n",
    "        low+=1\n",
    "itertest(0,10)"
   ]
  },
  {
   "cell_type": "code",
   "execution_count": 16,
   "metadata": {},
   "outputs": [
    {
     "name": "stdout",
     "output_type": "stream",
     "text": [
      "0\n",
      "1\n",
      "2\n",
      "3\n",
      "4\n",
      "5\n",
      "6\n",
      "7\n",
      "8\n",
      "9\n",
      "10\n",
      "10\n",
      "10\n",
      "10\n",
      "10\n",
      "10\n",
      "10\n",
      "10\n",
      "10\n",
      "10\n",
      "10"
     ]
    },
    {
     "ename": "KeyboardInterrupt",
     "evalue": "",
     "output_type": "error",
     "traceback": [
      "\u001b[1;31m---------------------------------------------------------------------------\u001b[0m",
      "\u001b[1;31mKeyboardInterrupt\u001b[0m                         Traceback (most recent call last)",
      "\u001b[1;32m<ipython-input-16-4190cec467d0>\u001b[0m in \u001b[0;36m<module>\u001b[1;34m\u001b[0m\n\u001b[0;32m      3\u001b[0m         \u001b[0mprint\u001b[0m\u001b[1;33m(\u001b[0m\u001b[0mlow\u001b[0m\u001b[1;33m)\u001b[0m\u001b[1;33m\u001b[0m\u001b[1;33m\u001b[0m\u001b[0m\n\u001b[0;32m      4\u001b[0m         \u001b[0mrecurtest\u001b[0m\u001b[1;33m(\u001b[0m\u001b[0mlow\u001b[0m\u001b[1;33m+\u001b[0m\u001b[1;36m1\u001b[0m\u001b[1;33m,\u001b[0m\u001b[0mhigh\u001b[0m\u001b[1;33m)\u001b[0m\u001b[1;33m\u001b[0m\u001b[1;33m\u001b[0m\u001b[0m\n\u001b[1;32m----> 5\u001b[1;33m \u001b[0mrecurtest\u001b[0m\u001b[1;33m(\u001b[0m\u001b[1;36m0\u001b[0m\u001b[1;33m,\u001b[0m\u001b[1;36m10\u001b[0m\u001b[1;33m)\u001b[0m\u001b[1;33m\u001b[0m\u001b[1;33m\u001b[0m\u001b[0m\n\u001b[0m\u001b[0;32m      6\u001b[0m \u001b[1;33m\u001b[0m\u001b[0m\n\u001b[0;32m      7\u001b[0m \u001b[1;31m#In this function will call him forever\u001b[0m\u001b[1;33m\u001b[0m\u001b[1;33m\u001b[0m\u001b[1;33m\u001b[0m\u001b[0m\n",
     ]
    }
   ],
   "source": [
    "def recurtest(low,high):\n",
    "    while low <= high:\n",
    "        print(low)\n",
    "        recurtest(low+1,high)\n",
    "recurtest(0,10)\n",
    "\n",
    "#In this function will call him forever"
   ]
  },
  {
   "cell_type": "markdown",
   "metadata": {},
   "source": [
    "## Generators \n",
    "- A generator yields items rather than build lists\n",
    "\n",
    "functions that do not just return one result,\n",
    "but rather an entire sequence of results,\n",
    "by using the yield statement these functions are generators"
   ]
  },
  {
   "cell_type": "code",
   "execution_count": 17,
   "metadata": {},
   "outputs": [],
   "source": [
    "import time  #compare run time of list compare to generator\n",
    "#generator function creates an iterator of odd numbers between n and m\n",
    "def oddGen(n, m):     \n",
    "    while n < m: \n",
    "        yield n \n",
    "        n += 2 \n",
    "#builds a list of odd numbers between n and m\n",
    "def oddlst(n,m):\n",
    "    olst=[]\n",
    "    while n<m:\n",
    "        olst.append(n)\n",
    "        n+=2\n",
    "    return olst"
   ]
  },
  {
   "cell_type": "code",
   "execution_count": 18,
   "metadata": {},
   "outputs": [
    {
     "name": "stdout",
     "output_type": "stream",
     "text": [
      "Time to sum an iterator: 0.095648\n"
     ]
    }
   ],
   "source": [
    "#time to perform iteration generator\n",
    "t=time.time()\n",
    "sum(oddGen(1,1000000))\n",
    "print(\"Time to sum an iterator: %f\" % (time.time() - t))"
   ]
  },
  {
   "cell_type": "code",
   "execution_count": 19,
   "metadata": {},
   "outputs": [
    {
     "name": "stdout",
     "output_type": "stream",
     "text": [
      "Time to build and sum a list: 0.114191\n"
     ]
    }
   ],
   "source": [
    "#time to build and sum a list\n",
    "t=time.time()\n",
    "sum(oddlst(1,1000000))\n",
    "print(\"Time to build and sum a list: %f\" % (time.time() - t))      "
   ]
  },
  {
   "cell_type": "code",
   "execution_count": 20,
   "metadata": {},
   "outputs": [
    {
     "name": "stdout",
     "output_type": "stream",
     "text": [
      "1\n",
      "3\n",
      "5\n",
      "7\n",
      "9\n"
     ]
    }
   ],
   "source": [
    "#making generator call for oddGen\n",
    "for i in oddGen(1,10):\n",
    "    print(i)"
   ]
  },
  {
   "cell_type": "code",
   "execution_count": 21,
   "metadata": {},
   "outputs": [
    {
     "name": "stdout",
     "output_type": "stream",
     "text": [
      "<generator object <genexpr> at 0x0000029B594E0DC8>\n",
      "10\n",
      "100\n",
      "1000\n",
      "10000\n"
     ]
    }
   ],
   "source": [
    "#changing generator into list \n",
    "lst1=[1,2,3,4]\n",
    "gen=(10**i for i in sorted(lst1))\n",
    "print(gen)\n",
    "for x in gen:\n",
    "    print(x)"
   ]
  },
  {
   "cell_type": "markdown",
   "metadata": {},
   "source": [
    "# Dictionaries"
   ]
  },
  {
   "cell_type": "code",
   "execution_count": 22,
   "metadata": {},
   "outputs": [],
   "source": [
    "d={'one':1,'two':2,'three':3} #create dictionary\n",
    "d['four']=4 # add item \n",
    "d.update({'five':5,'six':6}) #mupliple items added"
   ]
  },
  {
   "cell_type": "code",
   "execution_count": 23,
   "metadata": {},
   "outputs": [
    {
     "name": "stdout",
     "output_type": "stream",
     "text": [
      "[('five', 5), ('four', 4), ('one', 1), ('six', 6), ('three', 3), ('two', 2)]\n",
      "['five', 'four', 'one', 'six', 'three', 'two']\n",
      "[1, 2, 3, 4, 5, 6]\n"
     ]
    }
   ],
   "source": [
    "print(sorted(d.items()))\n",
    "print(sorted(d.keys()))\n",
    "print(sorted(d.values()))"
   ]
  },
  {
   "cell_type": "code",
   "execution_count": 24,
   "metadata": {},
   "outputs": [
    {
     "data": {
      "text/plain": [
       "['one', 'two', 'three', 'four', 'five', 'six']"
      ]
     },
     "execution_count": 24,
     "metadata": {},
     "output_type": "execute_result"
    }
   ],
   "source": [
    "sorted(list(d),key=d.__getitem__) #__getitem__ special method to sort the dictionary keys according to the dictionary values"
   ]
  },
  {
   "cell_type": "code",
   "execution_count": 25,
   "metadata": {},
   "outputs": [
    {
     "data": {
      "text/plain": [
       "[6, 5, 4, 3, 2, 1]"
      ]
     },
     "execution_count": 25,
     "metadata": {},
     "output_type": "execute_result"
    }
   ],
   "source": [
    "sorted(d.values(),reverse=True)"
   ]
  },
  {
   "cell_type": "code",
   "execution_count": 26,
   "metadata": {},
   "outputs": [
    {
     "data": {
      "text/plain": [
       "[5, 4, 1, 6, 3, 2]"
      ]
     },
     "execution_count": 26,
     "metadata": {},
     "output_type": "execute_result"
    }
   ],
   "source": [
    "[value for (key,value) in sorted(d.items())] #here values from sorted item get printed "
   ]
  },
  {
   "cell_type": "code",
   "execution_count": 27,
   "metadata": {
    "scrolled": true
   },
   "outputs": [
    {
     "data": {
      "text/plain": [
       "[1, 2, 3, 4, 5, 6]"
      ]
     },
     "execution_count": 27,
     "metadata": {},
     "output_type": "execute_result"
    }
   ],
   "source": [
    "[d[i] for i in sorted(d,key=d.__getitem__)]"
   ]
  },
  {
   "cell_type": "code",
   "execution_count": 28,
   "metadata": {},
   "outputs": [],
   "source": [
    "def w(name):\n",
    "    try:\n",
    "        hand=open(name)\n",
    "    except:\n",
    "        print('file cannot be opened')\n",
    "        exit()\n",
    "    count=dict()\n",
    "    for line in hand:\n",
    "        words = line.split()\n",
    "        for word in words:\n",
    "            if word not in count:\n",
    "                count[word] = 1\n",
    "            else:\n",
    "                count[word]+=1\n",
    "        return(count)\n",
    "count=w('data.json') "
   ]
  },
  {
   "cell_type": "code",
   "execution_count": 29,
   "metadata": {},
   "outputs": [],
   "source": [
    "filtered = { key:value for key, value in count.items()\n",
    "            if value  < 10 and value > 5 } "
   ]
  },
  {
   "cell_type": "code",
   "execution_count": 30,
   "metadata": {},
   "outputs": [
    {
     "data": {
      "text/plain": [
       "{'site\":': 7,\n",
       " 'segments': 9,\n",
       " 'hardened': 9,\n",
       " '\"Wood': 7,\n",
       " 'ash': 7,\n",
       " 'Ural': 7,\n",
       " 'Philippines,': 8,\n",
       " 'oversees': 7,\n",
       " 'constitutes': 8,\n",
       " 'priority': 6,\n",
       " 'Bulgaria,': 6,\n",
       " 'spare': 6,\n",
       " 'rests': 7,\n",
       " ...}"
      ]
     },
     "execution_count": 30,
     "metadata": {},
     "output_type": "execute_result"
    }
   ],
   "source": [
    "filtered"
   ]
  },
  {
   "cell_type": "code",
   "execution_count": null,
   "metadata": {},
   "outputs": [],
   "source": []
  },
  {
   "cell_type": "code",
   "execution_count": null,
   "metadata": {},
   "outputs": [],
   "source": []
  }
 ],
 "metadata": {
  "kernelspec": {
   "display_name": "Python 3",
   "language": "python",
   "name": "python3"
  },
  "language_info": {
   "codemirror_mode": {
    "name": "ipython",
    "version": 3
   },
   "file_extension": ".py",
   "mimetype": "text/x-python",
   "name": "python",
   "nbconvert_exporter": "python",
   "pygments_lexer": "ipython3",
   "version": "3.7.4"
  }
 },
 "nbformat": 4,
 "nbformat_minor": 2
}
