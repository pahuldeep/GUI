{
 "cells": [
  {
   "cell_type": "code",
   "execution_count": 1,
   "metadata": {},
   "outputs": [],
   "source": [
    "class Node(object):\n",
    "    def __init__(self,data=None,next=None,prev=None):\n",
    "        self.next = next\n",
    "        self.prev = prev\n",
    "        self.data = data"
   ]
  },
  {
   "cell_type": "code",
   "execution_count": 2,
   "metadata": {},
   "outputs": [],
   "source": [
    "class double_link(object):\n",
    "    def __init__(self):\n",
    "        self.head = None\n",
    "        self.tail = None\n",
    "        self.count = 0\n",
    "    \n",
    "    def append(self,new_data):\n",
    "        \n",
    "        new_node = Node(new_data,None,None)\n",
    "        \n",
    "        if self.head == None:\n",
    "            self.head = new_node\n",
    "            self.tail = self.head\n",
    "        else:\n",
    "            new_node.prev = self.tail\n",
    "            self.tail.next = new_node\n",
    "            self.tail = new_node\n",
    "            self.count +=1\n",
    "            \n",
    "    def delete(self,new_data):\n",
    "       \n",
    "        node_delete = False\n",
    "        item = self.head\n",
    "        if item == None:\n",
    "            node_delete = False\n",
    "        # search on head part \n",
    "        elif item.data == new_data:\n",
    "            self.head = item.next\n",
    "            self.head.prev = None\n",
    "            node_delete = True\n",
    "        # search on tail part\n",
    "        elif self.tail.data == new_data:\n",
    "            self.tail = self.tail.prev\n",
    "            self.tail.next = None\n",
    "            node_delete = True\n",
    "        # for searching and remove node    \n",
    "        else:\n",
    "            while item:\n",
    "                if item.data == new_data:\n",
    "                    item.prev.next = item.next #current's previous node is connected to current's next node.\n",
    "                    item.next.prev = item.prev\n",
    "                    node_delete = True\n",
    "                item = item.next\n",
    "        if node_delete:\n",
    "            self.count -=1\n",
    "            \n",
    "            \n",
    "    def iter(self):\n",
    "        value = self.head\n",
    "        while value:\n",
    "            val = value.data\n",
    "            value = value.next\n",
    "            yield val\n",
    "word = double_link()          "
   ]
  },
  {
   "cell_type": "code",
   "execution_count": 3,
   "metadata": {},
   "outputs": [],
   "source": [
    "word.append('1')\n",
    "word.append('2')\n",
    "word.append('3')\n",
    "word.append('4')"
   ]
  },
  {
   "cell_type": "code",
   "execution_count": 4,
   "metadata": {},
   "outputs": [
    {
     "name": "stdout",
     "output_type": "stream",
     "text": [
      "1\n",
      "2\n",
      "3\n",
      "4\n"
     ]
    }
   ],
   "source": [
    "for i in word.iter():\n",
    "    print(i)"
   ]
  },
  {
   "cell_type": "code",
   "execution_count": 5,
   "metadata": {},
   "outputs": [],
   "source": [
    "word.delete(i)"
   ]
  },
  {
   "cell_type": "code",
   "execution_count": 6,
   "metadata": {},
   "outputs": [
    {
     "name": "stdout",
     "output_type": "stream",
     "text": [
      "1\n",
      "2\n",
      "3\n"
     ]
    }
   ],
   "source": [
    "for i in word.iter():\n",
    "    print(i)"
   ]
  },
  {
   "cell_type": "code",
   "execution_count": null,
   "metadata": {},
   "outputs": [],
   "source": []
  }
 ],
 "metadata": {
  "kernelspec": {
   "display_name": "Python 3",
   "language": "python",
   "name": "python3"
  },
  "language_info": {
   "codemirror_mode": {
    "name": "ipython",
    "version": 3
   },
   "file_extension": ".py",
   "mimetype": "text/x-python",
   "name": "python",
   "nbconvert_exporter": "python",
   "pygments_lexer": "ipython3",
   "version": "3.7.3"
  }
 },
 "nbformat": 4,
 "nbformat_minor": 2
}
