{
 "cells": [
  {
   "cell_type": "markdown",
   "metadata": {},
   "source": [
    "# Singlelink_list"
   ]
  },
  {
   "cell_type": "code",
   "execution_count": 4,
   "metadata": {},
   "outputs": [],
   "source": [
    "class Node:\n",
    "    \n",
    "    def __init__(self,data=None):\n",
    "        \n",
    "        self.data=data\n",
    "        self.next=None\n",
    "    \n",
    "    def __str__(self):\n",
    "        return str(data)"
   ]
  },
  {
   "cell_type": "code",
   "execution_count": 5,
   "metadata": {},
   "outputs": [],
   "source": [
    "class singlelink:      #This is single link list with Internal Node into it....\n",
    "    \n",
    "    def __init__(self):\n",
    "        self.tail=None \n",
    "        self.size=0\n",
    "        \n",
    "    # This is INSERT operation or append data operation   \n",
    "    def append(self,new_data):\n",
    "        node = Node(new_data) #Allocate the Node & Put in the data \n",
    "        \n",
    "        if self.tail == None:  #If the Linked List is empty then make the new node \n",
    "            self.tail = node\n",
    "        else:\n",
    "            item = self.tail\n",
    "            \n",
    "            while item.next:\n",
    "                item = item.next\n",
    "            \n",
    "            item.next=node\n",
    "        self.size+=1\n",
    "    \n",
    "    # This is a PUSH operation to insert node at beginning\n",
    "    def push(self,new_data):\n",
    "        \n",
    "        node = Node(new_data)    #Allocate the Node & Put in the data \n",
    "        \n",
    "        node.next = self.tail    # Make next of node as head \n",
    "        self.tail = node      #move\n",
    "        self.size+=1  \n",
    "\n",
    "\n",
    "    def iter(self):\n",
    "        item = self.tail\n",
    "        while item:\n",
    "            val = item.data\n",
    "            item = item.next\n",
    "            yield val \n",
    "            \n",
    "    def size(self):\n",
    "        count = 0\n",
    "        item = self.tail\n",
    "        while item:\n",
    "            count+=1\n",
    "            item = item.next\n",
    "        return count\n",
    "    \n",
    "words = singlelink()       \n"
   ]
  },
  {
   "cell_type": "code",
   "execution_count": 6,
   "metadata": {},
   "outputs": [],
   "source": [
    "words.append('1')\n",
    "words.append('2')\n",
    "words.push('3')\n",
    "words.append('4')"
   ]
  },
  {
   "cell_type": "code",
   "execution_count": 7,
   "metadata": {},
   "outputs": [
    {
     "name": "stdout",
     "output_type": "stream",
     "text": [
      "3\n",
      "1\n",
      "2\n",
      "4\n"
     ]
    }
   ],
   "source": [
    "for word in words.iter():\n",
    "    print(word) "
   ]
  },
  {
   "cell_type": "code",
   "execution_count": 8,
   "metadata": {},
   "outputs": [
    {
     "data": {
      "text/plain": [
       "4"
      ]
     },
     "execution_count": 8,
     "metadata": {},
     "output_type": "execute_result"
    }
   ],
   "source": [
    "words.size"
   ]
  },
  {
   "cell_type": "code",
   "execution_count": null,
   "metadata": {},
   "outputs": [],
   "source": []
  }
 ],
 "metadata": {
  "kernelspec": {
   "display_name": "Python 3",
   "language": "python",
   "name": "python3"
  },
  "language_info": {
   "codemirror_mode": {
    "name": "ipython",
    "version": 3
   },
   "file_extension": ".py",
   "mimetype": "text/x-python",
   "name": "python",
   "nbconvert_exporter": "python",
   "pygments_lexer": "ipython3",
   "version": "3.7.4"
  }
 },
 "nbformat": 4,
 "nbformat_minor": 2
}
