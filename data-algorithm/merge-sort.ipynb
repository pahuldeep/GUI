{
 "cells": [
  {
   "cell_type": "code",
   "execution_count": 1,
   "metadata": {},
   "outputs": [],
   "source": [
    "def mergesort(A):\n",
    "    #base case if the input array is one or zero just return.\n",
    "    if len(A)>1:\n",
    "        # splitting the input \n",
    "        print('splitting :',A)\n",
    "        mid = len(A)//2\n",
    "        left = A[:mid]\n",
    "        right = A[mid:]\n",
    "        #recursive calls to mergeSort for left and right sub arrays\n",
    "        mergesort(left)\n",
    "        mergesort(right)\n",
    "        #initalizes pointers for left (i) right (j) and output array (k)\n",
    "        i = j = k = 0\n",
    "        #Traverse and merges the sorted arrays \n",
    "        while i < len(left) and j < len(right):\n",
    "            # if left < right comparison operation  \n",
    "            if left[i] < right[j]:\n",
    "                A[k] = left[i]\n",
    "                i+=1\n",
    "            else:\n",
    "                A[k]= right[j]\n",
    "                j+=1\n",
    "            k+=1\n",
    "        # Checking if any element was left \n",
    "        while i <len(left):\n",
    "            A[k]=left[i]\n",
    "            i+=1\n",
    "            k+=1\n",
    "        while j < len(right):\n",
    "            A[k]=right[j]\n",
    "            j+=1\n",
    "            k+=1\n",
    "        print('merging :',A)\n",
    "        return(A)"
   ]
  },
  {
   "cell_type": "code",
   "execution_count": 2,
   "metadata": {},
   "outputs": [
    {
     "name": "stdout",
     "output_type": "stream",
     "text": [
      "splitting : [5, 3, 10, 9]\n",
      "splitting : [5, 3]\n",
      "merging : [3, 5]\n",
      "splitting : [10, 9]\n",
      "merging : [9, 10]\n",
      "merging : [3, 5, 9, 10]\n"
     ]
    },
    {
     "data": {
      "text/plain": [
       "[3, 5, 9, 10]"
      ]
     },
     "execution_count": 2,
     "metadata": {},
     "output_type": "execute_result"
    }
   ],
   "source": [
    "mergesort([5,3,10,9])"
   ]
  },
  {
   "cell_type": "code",
   "execution_count": null,
   "metadata": {},
   "outputs": [],
   "source": []
  }
 ],
 "metadata": {
  "kernelspec": {
   "display_name": "Python 3",
   "language": "python",
   "name": "python3"
  },
  "language_info": {
   "codemirror_mode": {
    "name": "ipython",
    "version": 3
   },
   "file_extension": ".py",
   "mimetype": "text/x-python",
   "name": "python",
   "nbconvert_exporter": "python",
   "pygments_lexer": "ipython3",
   "version": "3.7.4"
  }
 },
 "nbformat": 4,
 "nbformat_minor": 2
}
