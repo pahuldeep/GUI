{
 "cells": [
  {
   "cell_type": "code",
   "execution_count": 1,
   "metadata": {},
   "outputs": [],
   "source": [
    "class Node:\n",
    "    def __init__(self,data):\n",
    "        self.data = data\n",
    "        self.next = None\n",
    "\n",
    "class Stack:\n",
    "    \n",
    "    def __init__(self):\n",
    "        self.top = None\n",
    "        self.count = 0\n",
    "    \n",
    "    def push(self,new_data):\n",
    "        node = Node(new_data)\n",
    "        if self.top:\n",
    "            node.next = self.top\n",
    "            self.top = node\n",
    "        else:\n",
    "            self.top = node\n",
    "        self.count +=1\n",
    "        \n",
    "    def pop(self):\n",
    "        if self.top:\n",
    "            data = self.top.data\n",
    "            self.count -=1\n",
    "            if self.top.data:\n",
    "                self.top = self.top.next\n",
    "            else:\n",
    "                self.top =None\n",
    "            return data\n",
    "        else:\n",
    "            return None"
   ]
  },
  {
   "cell_type": "code",
   "execution_count": 2,
   "metadata": {},
   "outputs": [],
   "source": [
    "s = Stack()"
   ]
  },
  {
   "cell_type": "code",
   "execution_count": 3,
   "metadata": {},
   "outputs": [],
   "source": [
    "s.push('1')"
   ]
  },
  {
   "cell_type": "code",
   "execution_count": 4,
   "metadata": {},
   "outputs": [
    {
     "data": {
      "text/plain": [
       "1"
      ]
     },
     "execution_count": 4,
     "metadata": {},
     "output_type": "execute_result"
    }
   ],
   "source": [
    "s.count"
   ]
  },
  {
   "cell_type": "code",
   "execution_count": 5,
   "metadata": {},
   "outputs": [
    {
     "data": {
      "text/plain": [
       "'1'"
      ]
     },
     "execution_count": 5,
     "metadata": {},
     "output_type": "execute_result"
    }
   ],
   "source": [
    "s.pop()"
   ]
  },
  {
   "cell_type": "code",
   "execution_count": 6,
   "metadata": {},
   "outputs": [
    {
     "data": {
      "text/plain": [
       "0"
      ]
     },
     "execution_count": 6,
     "metadata": {},
     "output_type": "execute_result"
    }
   ],
   "source": [
    "s.count"
   ]
  },
  {
   "cell_type": "markdown",
   "metadata": {},
   "source": [
    "THIS IS A BRACKET_MATCHING APPLICATION:"
   ]
  },
  {
   "cell_type": "code",
   "execution_count": 7,
   "metadata": {},
   "outputs": [],
   "source": [
    "def check_brackets(statement): \n",
    "        stack = Stack() \n",
    "        for ch in statement: \n",
    "            if ch in ('{', '[', '('): \n",
    "                stack.push(ch) \n",
    "            if ch in ('}', ']', ')'): \n",
    "                last = stack.pop() \n",
    "            if lambda:last is '{' and ch is '}': \n",
    "                continue \n",
    "            elif lambda:last is '[' and ch is ']': \n",
    "                continue \n",
    "            elif lambda:last is '(' and ch is ')': \n",
    "                continue \n",
    "            else: \n",
    "                return False \n",
    "        if stack.count > 0: \n",
    "            return False \n",
    "        else: \n",
    "            return True "
   ]
  },
  {
   "cell_type": "code",
   "execution_count": 8,
   "metadata": {},
   "outputs": [],
   "source": [
    "lst = ('{this(statement[should(be(true))])}',\n",
    "      '{this(statement{is[false])',\n",
    "      'this(is(true(for(test))))') "
   ]
  },
  {
   "cell_type": "code",
   "execution_count": 10,
   "metadata": {
    "scrolled": true
   },
   "outputs": [
    {
     "name": "stdout",
     "output_type": "stream",
     "text": [
      "{this(statement[should(be(true))])}: True\n",
      "{this(statement{is[false]): False\n",
      "this(is(true(for(test)))): True\n"
     ]
    }
   ],
   "source": [
    "for s in lst: \n",
    "    m = check_brackets(s) \n",
    "    print(\"{}: {}\".format(s, m)) "
   ]
  },
  {
   "cell_type": "code",
   "execution_count": null,
   "metadata": {},
   "outputs": [],
   "source": [
    "class listQ:\n",
    "    def __init__(self):\n",
    "        self.item = []\n",
    "        self.size = 0\n",
    "    def enqueue(self,data):\n",
    "        self.item.insert(0,)"
   ]
  }
 ],
 "metadata": {
  "kernelspec": {
   "display_name": "Python 3",
   "language": "python",
   "name": "python3"
  },
  "language_info": {
   "codemirror_mode": {
    "name": "ipython",
    "version": 3
   },
   "file_extension": ".py",
   "mimetype": "text/x-python",
   "name": "python",
   "nbconvert_exporter": "python",
   "pygments_lexer": "ipython3",
   "version": "3.7.3"
  }
 },
 "nbformat": 4,
 "nbformat_minor": 2
}
