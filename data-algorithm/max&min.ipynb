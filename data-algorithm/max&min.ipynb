{
 "cells": [
  {
   "cell_type": "code",
   "execution_count": 1,
   "metadata": {},
   "outputs": [],
   "source": [
    "def Maximum(a):\n",
    "    value = a[0]\n",
    "    for i in a:\n",
    "        if i > value:\n",
    "            value = i\n",
    "        return value"
   ]
  },
  {
   "cell_type": "code",
   "execution_count": 2,
   "metadata": {},
   "outputs": [
    {
     "data": {
      "text/plain": [
       "122"
      ]
     },
     "execution_count": 2,
     "metadata": {},
     "output_type": "execute_result"
    }
   ],
   "source": [
    "Maximum([122,22,32,4])"
   ]
  },
  {
   "cell_type": "code",
   "execution_count": 3,
   "metadata": {},
   "outputs": [],
   "source": [
    "def imax(a):\n",
    "    l = len(a)\n",
    "    \n",
    "    if l==0:\n",
    "        return 0\n",
    "    elif l==1:\n",
    "        return a[0]\n",
    "    elif l==2:\n",
    "        if a[0] > a[1]:\n",
    "            return a[0] \n",
    "        else:\n",
    "            return a[1]\n",
    "    \n",
    "    half = l/2\n",
    "    A = a[:half]\n",
    "    B = a[half:]\n",
    "    max_A = imax(A)\n",
    "    max_B = imax(B)\n",
    "    \n",
    "    if max_A > max_B:\n",
    "        return max_A\n",
    "    else:\n",
    "        return max_B"
   ]
  },
  {
   "cell_type": "code",
   "execution_count": 4,
   "metadata": {},
   "outputs": [
    {
     "data": {
      "text/plain": [
       "[1, 2, 7, 6]"
      ]
     },
     "execution_count": 4,
     "metadata": {},
     "output_type": "execute_result"
    }
   ],
   "source": [
    "imax(([1,2,7,4],\n",
    "      [1,2,7,6]))"
   ]
  },
  {
   "cell_type": "code",
   "execution_count": 5,
   "metadata": {},
   "outputs": [],
   "source": [
    "def minimum(a):\n",
    "    value = a[0]\n",
    "    for i in a:\n",
    "        if i < value:\n",
    "            value = i\n",
    "    return value"
   ]
  },
  {
   "cell_type": "code",
   "execution_count": 6,
   "metadata": {},
   "outputs": [
    {
     "data": {
      "text/plain": [
       "1"
      ]
     },
     "execution_count": 6,
     "metadata": {},
     "output_type": "execute_result"
    }
   ],
   "source": [
    "minimum([5,2,3,4,1])"
   ]
  },
  {
   "cell_type": "code",
   "execution_count": 7,
   "metadata": {},
   "outputs": [],
   "source": [
    "def imin(a):\n",
    "    l = len(a)\n",
    "    \n",
    "    if l == 0:\n",
    "        return 0\n",
    "    elif l == 1:\n",
    "        return a[0]\n",
    "    elif l == 2:\n",
    "        if a[0] < a[1]:\n",
    "            return a[0]\n",
    "        else:\n",
    "            return a[1]\n",
    "    half = l / 2\n",
    "    A = a[:half]\n",
    "    B = a[half:]\n",
    "    mini_A = imin[A]\n",
    "    mini_B = imin[B]\n",
    "    if mini_A < mini_B:\n",
    "        return mini_A\n",
    "    else:\n",
    "        return mini_B"
   ]
  },
  {
   "cell_type": "code",
   "execution_count": 8,
   "metadata": {},
   "outputs": [
    {
     "data": {
      "text/plain": [
       "[0, 2, 34]"
      ]
     },
     "execution_count": 8,
     "metadata": {},
     "output_type": "execute_result"
    }
   ],
   "source": [
    "imin(([1,2,34],[0,2,34]))"
   ]
  }
 ],
 "metadata": {
  "kernelspec": {
   "display_name": "Python 3",
   "language": "python",
   "name": "python3"
  },
  "language_info": {
   "codemirror_mode": {
    "name": "ipython",
    "version": 3
   },
   "file_extension": ".py",
   "mimetype": "text/x-python",
   "name": "python",
   "nbconvert_exporter": "python",
   "pygments_lexer": "ipython3",
   "version": "3.7.3"
  }
 },
 "nbformat": 4,
 "nbformat_minor": 2
}
