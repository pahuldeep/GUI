{
 "cells": [
  {
   "cell_type": "markdown",
   "metadata": {},
   "source": [
    "# Singlelink_list"
   ]
  },
  {
   "cell_type": "code",
   "execution_count": 1,
   "metadata": {},
   "outputs": [],
   "source": [
    "class Node:\n",
    "    \n",
    "    def __init__(self,data=None):\n",
    "        \n",
    "        self.data=data\n",
    "        self.next=None\n",
    "    \n",
    "    def __str__(self):\n",
    "        return str(data)"
   ]
  },
  {
   "cell_type": "code",
   "execution_count": 2,
   "metadata": {},
   "outputs": [],
   "source": [
    "class singlelink:      #This is single link list with Internal Node into it....\n",
    "    \n",
    "    def __init__(self):\n",
    "        self.tail=None \n",
    "        self.size=0\n",
    "        \n",
    "    # This is INSERT operation or append data operation   \n",
    "    def append(self,new_data):\n",
    "        node = Node(new_data) #Allocate the Node & Put in the data \n",
    "        \n",
    "        if self.tail == None:  #If the Linked List is empty then make the new node \n",
    "            self.tail = node\n",
    "        else:\n",
    "            item = self.tail\n",
    "            while item.next:\n",
    "                item = item.next\n",
    "            item.next=node\n",
    "        self.size+=1\n",
    "    \n",
    "    # This is a PUSH operation to insert node at beginning\n",
    "    def push(self,new_data):\n",
    "        \n",
    "        node = Node(new_data)    #Allocate the Node & Put in the data \n",
    "        \n",
    "        node.next = self.tail    # Make next of node as tail \n",
    "        self.tail = node      #move\n",
    "        self.size+=1  \n",
    "\n",
    "    # \n",
    "    def iter(self):\n",
    "        variable = self.tail\n",
    "        while variable:\n",
    "            val = variable.data\n",
    "            variable = variable.next\n",
    "            yield val \n",
    "            \n",
    "    def size(self):\n",
    "        count = 0\n",
    "        item = self.tail\n",
    "        while item:\n",
    "            count+=1\n",
    "            item = item.next   \n",
    "        return count\n",
    "    \n",
    "    def delete(self,new_data):\n",
    "        current = self.tail\n",
    "        prev = self.tail\n",
    "        while current:\n",
    "            if current.data == new_data:\n",
    "                if current == current.next:\n",
    "                    self.tail = current.next\n",
    "                else:\n",
    "                    prev.next = current.next\n",
    "                self.size-=1\n",
    "                return\n",
    "            prev = current\n",
    "            current = current.next\n",
    "            \n",
    "    def search(self,new_data):\n",
    "        for i in self.iter():\n",
    "            if new_data == i:\n",
    "                return True\n",
    "        return False\n",
    "        \n",
    "    \n",
    "words = singlelink()       "
   ]
  },
  {
   "cell_type": "code",
   "execution_count": 3,
   "metadata": {},
   "outputs": [],
   "source": [
    "words.append('1')\n",
    "words.append('2')\n",
    "words.append('3')\n",
    "words.append('4')\n",
    "words.append('5')\n",
    "words.append('6')"
   ]
  },
  {
   "cell_type": "code",
   "execution_count": 4,
   "metadata": {},
   "outputs": [
    {
     "name": "stdout",
     "output_type": "stream",
     "text": [
      "1\n",
      "2\n",
      "3\n",
      "4\n",
      "5\n",
      "6\n"
     ]
    },
    {
     "data": {
      "text/plain": [
       "6"
      ]
     },
     "execution_count": 4,
     "metadata": {},
     "output_type": "execute_result"
    }
   ],
   "source": [
    "for word in words.iter():\n",
    "    print(word) \n",
    "words.size"
   ]
  },
  {
   "cell_type": "code",
   "execution_count": 5,
   "metadata": {},
   "outputs": [],
   "source": [
    "words.push('3')\n",
    "words.push('4')"
   ]
  },
  {
   "cell_type": "code",
   "execution_count": 6,
   "metadata": {},
   "outputs": [
    {
     "name": "stdout",
     "output_type": "stream",
     "text": [
      "4\n",
      "3\n",
      "1\n",
      "2\n",
      "3\n",
      "4\n",
      "5\n",
      "6\n"
     ]
    },
    {
     "data": {
      "text/plain": [
       "8"
      ]
     },
     "execution_count": 6,
     "metadata": {},
     "output_type": "execute_result"
    }
   ],
   "source": [
    "for word in words.iter():\n",
    "    print(word) \n",
    "words.size"
   ]
  },
  {
   "cell_type": "code",
   "execution_count": 7,
   "metadata": {},
   "outputs": [],
   "source": [
    "words.delete('3');words.delete('4')"
   ]
  },
  {
   "cell_type": "code",
   "execution_count": 8,
   "metadata": {},
   "outputs": [
    {
     "name": "stdout",
     "output_type": "stream",
     "text": [
      "4\n",
      "1\n",
      "2\n",
      "3\n",
      "4\n",
      "5\n",
      "6\n"
     ]
    },
    {
     "data": {
      "text/plain": [
       "6"
      ]
     },
     "execution_count": 8,
     "metadata": {},
     "output_type": "execute_result"
    }
   ],
   "source": [
    "for i in words.iter():\n",
    "    print(i) \n",
    "words.size"
   ]
  },
  {
   "cell_type": "code",
   "execution_count": 9,
   "metadata": {},
   "outputs": [
    {
     "name": "stdout",
     "output_type": "stream",
     "text": [
      "True\n",
      "False\n"
     ]
    }
   ],
   "source": [
    "print(words.search('2'))\n",
    "print(words.search('8'))"
   ]
  }
 ],
 "metadata": {
  "kernelspec": {
   "display_name": "Python 3",
   "language": "python",
   "name": "python3"
  },
  "language_info": {
   "codemirror_mode": {
    "name": "ipython",
    "version": 3
   },
   "file_extension": ".py",
   "mimetype": "text/x-python",
   "name": "python",
   "nbconvert_exporter": "python",
   "pygments_lexer": "ipython3",
   "version": "3.7.4"
  }
 },
 "nbformat": 4,
 "nbformat_minor": 2
}
