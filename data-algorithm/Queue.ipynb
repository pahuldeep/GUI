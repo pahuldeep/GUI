{
 "cells": [
  {
   "cell_type": "code",
   "execution_count": 1,
   "metadata": {},
   "outputs": [],
   "source": [
    "class List_Queue:\n",
    "    def __init__(self):\n",
    "        self.item = []\n",
    "        self.size = 0 \n",
    "    def enqueue(self,data):\n",
    "        self.item.append(data)\n",
    "        self.size +=1\n",
    "    def dequeue(self):\n",
    "        self.item.pop()\n",
    "        self.size -=1\n",
    "        return"
   ]
  },
  {
   "cell_type": "code",
   "execution_count": 2,
   "metadata": {},
   "outputs": [],
   "source": [
    "lQ = List_Queue()"
   ]
  },
  {
   "cell_type": "code",
   "execution_count": 3,
   "metadata": {},
   "outputs": [
    {
     "name": "stdout",
     "output_type": "stream",
     "text": [
      "[1, 2, 3]\n"
     ]
    }
   ],
   "source": [
    "lQ.enqueue(1)\n",
    "lQ.enqueue(2)\n",
    "lQ.enqueue(3)\n",
    "print(lQ.item)"
   ]
  },
  {
   "cell_type": "code",
   "execution_count": 4,
   "metadata": {},
   "outputs": [
    {
     "name": "stdout",
     "output_type": "stream",
     "text": [
      "[1, 2, 3]\n",
      "[1, 2]\n",
      "[1]\n"
     ]
    }
   ],
   "source": [
    "print(lQ.item)\n",
    "lQ.dequeue()\n",
    "print(lQ.item)\n",
    "lQ.dequeue()\n",
    "print(lQ.item)"
   ]
  },
  {
   "cell_type": "code",
   "execution_count": 5,
   "metadata": {},
   "outputs": [],
   "source": [
    "class Stack_Queue:\n",
    "    def __init__(self):\n",
    "        self.inbound_stack = []\n",
    "        self.outboud_stack = []\n",
    "    def enqueue(self,data):\n",
    "        self.inbound_stack.append(data)\n",
    "    def dequeue(self):\n",
    "        if not self.outboud_stack:\n",
    "            while self.inbound_stack:\n",
    "                self.outboud_stack.append(self.inbound_stack.pop())\n",
    "        return self.outboud_stack.pop()"
   ]
  },
  {
   "cell_type": "code",
   "execution_count": 6,
   "metadata": {},
   "outputs": [],
   "source": [
    "Q = Stack_Queue()"
   ]
  },
  {
   "cell_type": "code",
   "execution_count": 7,
   "metadata": {},
   "outputs": [
    {
     "name": "stdout",
     "output_type": "stream",
     "text": [
      "[1, 2, 3]\n",
      "[]\n"
     ]
    }
   ],
   "source": [
    "Q.enqueue(1)\n",
    "Q.enqueue(2)\n",
    "Q.enqueue(3)\n",
    "print(Q.inbound_stack)\n",
    "print(Q.outboud_stack)"
   ]
  },
  {
   "cell_type": "code",
   "execution_count": 8,
   "metadata": {},
   "outputs": [
    {
     "name": "stdout",
     "output_type": "stream",
     "text": [
      "[1, 2, 3]\n",
      "[3, 2]\n",
      "[3]\n",
      "[]\n"
     ]
    }
   ],
   "source": [
    "print(Q.inbound_stack)\n",
    "Q.dequeue()\n",
    "print(Q.outboud_stack)\n",
    "Q.dequeue()\n",
    "print(Q.outboud_stack)\n",
    "print(Q.inbound_stack)"
   ]
  },
  {
   "cell_type": "code",
   "execution_count": 25,
   "metadata": {},
   "outputs": [],
   "source": [
    "class Node:\n",
    "    def __init__(self,data):\n",
    "        self.next = None\n",
    "        self.data = data\n",
    "        self.prev = None\n",
    "\n",
    "class linked_queue:\n",
    "    def __init__(self):\n",
    "        self.head = None\n",
    "        self.tail = None\n",
    "        self.count = 0\n",
    "    def enqueue(self,new_data):\n",
    "        node = Node(new_data)\n",
    "        if self.head is None :\n",
    "            self.head = node\n",
    "            self.head = self.tail\n",
    "        else:\n",
    "            node.prev = self.tail\n",
    "            self.tail.next = node\n",
    "            self.tail = node\n",
    "        self.count +=1\n",
    "    def dequeue(self):\n",
    "        if self.count == 1:\n",
    "            self.count -= 1\n",
    "            self.head = None\n",
    "            self.tail = None\n",
    "        elif self.count > 1:\n",
    "            self.head = lambda:self.head.next\n",
    "            self.head.prev = None\n",
    "            self.count -=1"
   ]
  },
  {
   "cell_type": "code",
   "execution_count": 26,
   "metadata": {},
   "outputs": [],
   "source": [
    "linkQ = linked_queue()"
   ]
  },
  {
   "cell_type": "code",
   "execution_count": 28,
   "metadata": {},
   "outputs": [
    {
     "name": "stdout",
     "output_type": "stream",
     "text": [
      "7\n"
     ]
    }
   ],
   "source": [
    "linkQ.enqueue(1)\n",
    "linkQ.enqueue(2)\n",
    "linkQ.enqueue(3)\n",
    "linkQ.enqueue(4)\n",
    "print(linkQ.count)"
   ]
  },
  {
   "cell_type": "code",
   "execution_count": 29,
   "metadata": {},
   "outputs": [
    {
     "name": "stdout",
     "output_type": "stream",
     "text": [
      "5\n"
     ]
    }
   ],
   "source": [
    "linkQ.dequeue()\n",
    "linkQ.dequeue()\n",
    "print(linkQ.count)"
   ]
  },
  {
   "cell_type": "code",
   "execution_count": null,
   "metadata": {},
   "outputs": [],
   "source": []
  }
 ],
 "metadata": {
  "kernelspec": {
   "display_name": "Python 3",
   "language": "python",
   "name": "python3"
  },
  "language_info": {
   "codemirror_mode": {
    "name": "ipython",
    "version": 3
   },
   "file_extension": ".py",
   "mimetype": "text/x-python",
   "name": "python",
   "nbconvert_exporter": "python",
   "pygments_lexer": "ipython3",
   "version": "3.7.3"
  }
 },
 "nbformat": 4,
 "nbformat_minor": 2
}
