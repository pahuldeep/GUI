{
 "cells": [
  {
   "cell_type": "markdown",
   "metadata": {},
   "source": [
    "# Classes"
   ]
  },
  {
   "cell_type": "code",
   "execution_count": 1,
   "metadata": {},
   "outputs": [
    {
     "name": "stdout",
     "output_type": "stream",
     "text": [
      "here is id 1 and name pahuldeep\n"
     ]
    }
   ],
   "source": [
    "class employee:\n",
    "    id=1\n",
    "    name=\"pahuldeep\"\n",
    "    def display(self):\n",
    "        print(\"here is id {} and name {}\".format(self.id,self.name))\n",
    "e_1=employee() #create the object for employee class\n",
    "e_1.display()"
   ]
  },
  {
   "cell_type": "code",
   "execution_count": 2,
   "metadata": {},
   "outputs": [
    {
     "name": "stdout",
     "output_type": "stream",
     "text": [
      "here this is 1 and pahul\n"
     ]
    }
   ],
   "source": [
    "class Employee:\n",
    "    def __init__(self,name,id):\n",
    "        self.id=id\n",
    "        self.name=name\n",
    "    def display(self):\n",
    "        print(\"here this is {} and {}\".format(self.id,self.name))\n",
    "e1=Employee(\"pahul\",1)\n",
    "e1.display()"
   ]
  },
  {
   "cell_type": "code",
   "execution_count": 3,
   "metadata": {},
   "outputs": [
    {
     "name": "stdout",
     "output_type": "stream",
     "text": [
      "name of the student :pahuldeep singh\n",
      "name of the student :shuchita\n",
      "no. of student in this class : 2\n"
     ]
    }
   ],
   "source": [
    "class student:\n",
    "    count = 0\n",
    "    def __init__(self,name):\n",
    "        self.name=name\n",
    "        student.count+=1\n",
    "        print(\"name of the student :{}\".format(self.name))\n",
    "obj1=student(\"pahuldeep singh\");obj2=student(\"shuchita\")\n",
    "print(\"no. of student in this class :\",student.count)"
   ]
  },
  {
   "cell_type": "markdown",
   "metadata": {},
   "source": [
    "## Inheritance"
   ]
  },
  {
   "cell_type": "code",
   "execution_count": 4,
   "metadata": {},
   "outputs": [
    {
     "name": "stdout",
     "output_type": "stream",
     "text": [
      "here i speak this is base class\n",
      "i want to say speak loudly in drived class\n"
     ]
    }
   ],
   "source": [
    "class base:\n",
    "    def speak(self):\n",
    "        print(\"here i speak this is base class\")\n",
    "class drived(base):\n",
    "    def say(self):\n",
    "        print(\"i want to say speak loudly in drived class\")\n",
    "s=drived()\n",
    "s.speak()\n",
    "s.say()"
   ]
  },
  {
   "cell_type": "code",
   "execution_count": 5,
   "metadata": {},
   "outputs": [
    {
     "name": "stdout",
     "output_type": "stream",
     "text": [
      "animal is speaking\n",
      "wof wof\n",
      "good night!!!\n"
     ]
    }
   ],
   "source": [
    "class animal:\n",
    "    def speak(self):\n",
    "        print(\"animal is speaking\")\n",
    "class dog(animal):\n",
    "    def bark(self):\n",
    "        print(\"wof wof\")\n",
    "class dogchild(dog):\n",
    "    def sleep(self):\n",
    "        print(\"good night!!!\")\n",
    "c=dogchild()\n",
    "c.speak()\n",
    "c.bark()\n",
    "c.sleep()"
   ]
  },
  {
   "cell_type": "code",
   "execution_count": 6,
   "metadata": {},
   "outputs": [
    {
     "name": "stdout",
     "output_type": "stream",
     "text": [
      "6\n",
      "1.0\n",
      "6\n"
     ]
    }
   ],
   "source": [
    "class cal1:\n",
    "    def add(self,a,b):\n",
    "        return a+b\n",
    "class cal2:\n",
    "    def mul(self,a,b):\n",
    "        return a*b\n",
    "class drived(cal1,cal2):\n",
    "    def div(self,a,b):\n",
    "        return a/b\n",
    "d=drived()\n",
    "print(d.mul(2,3))\n",
    "print(d.div(2,2))\n",
    "print(d.add(2,4))"
   ]
  },
  {
   "cell_type": "markdown",
   "metadata": {},
   "source": [
    "## creating classes dynamically"
   ]
  },
  {
   "cell_type": "code",
   "execution_count": 7,
   "metadata": {},
   "outputs": [],
   "source": [
    "def my_class(name):\n",
    "    if name == \"foru\":\n",
    "        class for_u(object):\n",
    "            pass\n",
    "        return for_u #return the class not instance\n",
    "    else :\n",
    "        class for_me(object):\n",
    "            pass\n",
    "        return for_me\n"
   ]
  },
  {
   "cell_type": "code",
   "execution_count": 8,
   "metadata": {},
   "outputs": [
    {
     "name": "stdout",
     "output_type": "stream",
     "text": [
      "<class '__main__.my_class.<locals>.for_me'>\n",
      "<__main__.my_class.<locals>.for_me object at 0x000001CF43F1D320>\n"
     ]
    }
   ],
   "source": [
    "this_class=my_class(\"pahul\") \n",
    "print(this_class)\n",
    "print(this_class())"
   ]
  },
  {
   "cell_type": "code",
   "execution_count": 9,
   "metadata": {},
   "outputs": [
    {
     "name": "stdout",
     "output_type": "stream",
     "text": [
      "<class '__main__.my_class.<locals>.for_u'>\n",
      "<__main__.my_class.<locals>.for_u object at 0x000001CF43F1D1D0>\n"
     ]
    }
   ],
   "source": [
    "that_class=my_class(\"foru\")\n",
    "print(that_class)\n",
    "print(that_class())"
   ]
  },
  {
   "cell_type": "code",
   "execution_count": null,
   "metadata": {},
   "outputs": [],
   "source": []
  },
  {
   "cell_type": "code",
   "execution_count": null,
   "metadata": {},
   "outputs": [],
   "source": []
  }
 ],
 "metadata": {
  "kernelspec": {
   "display_name": "Python 3",
   "language": "python",
   "name": "python3"
  },
  "language_info": {
   "codemirror_mode": {
    "name": "ipython",
    "version": 3
   },
   "file_extension": ".py",
   "mimetype": "text/x-python",
   "name": "python",
   "nbconvert_exporter": "python",
   "pygments_lexer": "ipython3",
   "version": "3.7.4"
  }
 },
 "nbformat": 4,
 "nbformat_minor": 2
}
